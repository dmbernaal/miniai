{
 "cells": [
  {
   "cell_type": "code",
   "execution_count": 1,
   "metadata": {},
   "outputs": [],
   "source": [
    "#export\n",
    "from __future__ import annotations\n",
    "import math,numpy as np,matplotlib.pyplot as plt\n",
    "from operator import itemgetter\n",
    "from itertools import zip_longest\n",
    "import fastcore.all as fc\n",
    "\n",
    "from torch.utils.data import default_collate\n",
    "\n",
    "try:\n",
    "    from .training import *\n",
    "except:\n",
    "    from src.miniai.training import *"
   ]
  },
  {
   "cell_type": "code",
   "execution_count": 2,
   "metadata": {},
   "outputs": [],
   "source": [
    "#export\n",
    "def inplace(f):\n",
    "    def _f(b):\n",
    "        f(b)\n",
    "        return b\n",
    "    return _f"
   ]
  },
  {
   "cell_type": "code",
   "execution_count": 3,
   "metadata": {},
   "outputs": [],
   "source": [
    "#export\n",
    "def collate_dict(ds):\n",
    "    get = itemgetter(*ds.features)\n",
    "    def _f(b): return get(default_collate(b))\n",
    "    return _f"
   ]
  },
  {
   "cell_type": "code",
   "execution_count": 4,
   "metadata": {},
   "outputs": [],
   "source": [
    "#export\n",
    "@fc.delegates(plt.Axes.imshow)\n",
    "def show_image(im, ax=None, figsize=None, title=None, noframe=True, **kwargs):\n",
    "    \"Show a PIL or PyTorch image on `ax`.\"\n",
    "    if fc.hasattrs(im, ('cpu','permute','detach')):\n",
    "        im = im.detach().cpu()\n",
    "        if len(im.shape)==3 and im.shape[0]<5: im=im.permute(1,2,0)\n",
    "    elif not isinstance(im,np.ndarray): im=np.array(im)\n",
    "    if im.shape[-1]==1: im=im[...,0]\n",
    "    if ax is None: _,ax = plt.subplots(figsize=figsize)\n",
    "    ax.imshow(im, **kwargs)\n",
    "    if title is not None: ax.set_title(title)\n",
    "    ax.set_xticks([]) \n",
    "    ax.set_yticks([]) \n",
    "    if noframe: ax.axis('off')\n",
    "    return ax"
   ]
  },
  {
   "cell_type": "code",
   "execution_count": 5,
   "metadata": {},
   "outputs": [],
   "source": [
    "#export\n",
    "@fc.delegates(plt.subplots, keep=True)\n",
    "def subplots(\n",
    "    nrows:int=1, # Number of rows in returned axes grid\n",
    "    ncols:int=1, # Number of columns in returned axes grid\n",
    "    figsize:tuple=None, # Width, height in inches of the returned figure\n",
    "    imsize:int=3, # Size (in inches) of images that will be displayed in the returned figure\n",
    "    suptitle:str=None, # Title to be set to returned figure\n",
    "    **kwargs\n",
    "): # fig and axs\n",
    "    \"A figure and set of subplots to display images of `imsize` inches\"\n",
    "    if figsize is None: figsize=(ncols*imsize, nrows*imsize)\n",
    "    fig,ax = plt.subplots(nrows, ncols, figsize=figsize, **kwargs)\n",
    "    if suptitle is not None: fig.suptitle(suptitle)\n",
    "    if nrows*ncols==1: ax = np.array([ax])\n",
    "    return fig,ax"
   ]
  },
  {
   "cell_type": "code",
   "execution_count": 6,
   "metadata": {},
   "outputs": [],
   "source": [
    "#export\n",
    "@fc.delegates(subplots)\n",
    "def get_grid(\n",
    "    n:int, # Number of axes\n",
    "    nrows:int=None, # Number of rows, defaulting to `int(math.sqrt(n))`\n",
    "    ncols:int=None, # Number of columns, defaulting to `ceil(n/rows)`\n",
    "    title:str=None, # If passed, title set to the figure\n",
    "    weight:str='bold', # Title font weight\n",
    "    size:int=14, # Title font size\n",
    "    **kwargs,\n",
    "): # fig and axs\n",
    "    \"Return a grid of `n` axes, `rows` by `cols`\"\n",
    "    if nrows: ncols = ncols or int(np.floor(n/nrows))\n",
    "    elif ncols: nrows = nrows or int(np.ceil(n/ncols))\n",
    "    else:\n",
    "        nrows = int(math.sqrt(n))\n",
    "        ncols = int(np.floor(n/nrows))\n",
    "    fig,axs = subplots(nrows, ncols, **kwargs)\n",
    "    for i in range(n, nrows*ncols): axs.flat[i].set_axis_off()\n",
    "    if title is not None: fig.suptitle(title, weight=weight, size=size)\n",
    "    return fig,axs"
   ]
  },
  {
   "cell_type": "code",
   "execution_count": 7,
   "metadata": {},
   "outputs": [],
   "source": [
    "#export\n",
    "@fc.delegates(subplots)\n",
    "def show_images(ims:list, # Images to show\n",
    "                nrows:int|None=None, # Number of rows in grid\n",
    "                ncols:int|None=None, # Number of columns in grid (auto-calculated if None)\n",
    "                titles:list|None=None, # Optional list of titles for each image\n",
    "                **kwargs):\n",
    "    \"Show all images `ims` as subplots with `rows` using `titles`\"\n",
    "    axs = get_grid(len(ims), nrows, ncols, **kwargs)[1].flat\n",
    "    for im,t,ax in zip_longest(ims, titles or [], axs): show_image(im, ax=ax, title=t)"
   ]
  },
  {
   "cell_type": "code",
   "execution_count": 8,
   "metadata": {},
   "outputs": [],
   "source": [
    "#export\n",
    "class DataLoaders:\n",
    "    def __init__(self, *dls): self.train,self.valid = dls[:2]\n",
    "\n",
    "    @classmethod\n",
    "    def from_dd(cls, dd, batch_size, as_tuple=True, **kwargs):\n",
    "        f = collate_dict(dd['train'])\n",
    "        return cls(*get_dls(*dd.values(), bs=batch_size, collate_fn=f))"
   ]
  },
  {
   "cell_type": "code",
   "execution_count": 9,
   "metadata": {},
   "outputs": [],
   "source": [
    "import nbformat\n",
    "import os"
   ]
  },
  {
   "cell_type": "code",
   "execution_count": 10,
   "metadata": {},
   "outputs": [],
   "source": [
    "def export_cells(notebook_file, output_file):\n",
    "    with open(notebook_file) as f:\n",
    "        nb = nbformat.read(f, as_version=4)\n",
    "\n",
    "    exported_cells = [cell for cell in nb['cells'] if cell['source'].startswith('#export')]\n",
    "\n",
    "    with open(output_file, 'w') as f:\n",
    "        for cell in exported_cells:\n",
    "            f.write(cell['source'][len('#export'):].strip() + '\\n')"
   ]
  },
  {
   "cell_type": "code",
   "execution_count": 11,
   "metadata": {},
   "outputs": [],
   "source": [
    "fname = '05_datasets.ipynb'\n",
    "with open(fname) as f:\n",
    "    nb = nbformat.read(f, as_version=4)"
   ]
  },
  {
   "cell_type": "code",
   "execution_count": 12,
   "metadata": {},
   "outputs": [],
   "source": [
    "export_cells = [cell for cell in nb['cells'] if cell['source'].startswith('#export')]"
   ]
  },
  {
   "cell_type": "code",
   "execution_count": 13,
   "metadata": {},
   "outputs": [
    {
     "data": {
      "text/plain": [
       "[]"
      ]
     },
     "execution_count": 13,
     "metadata": {},
     "output_type": "execute_result"
    }
   ],
   "source": [
    "export_cells"
   ]
  },
  {
   "cell_type": "code",
   "execution_count": 14,
   "metadata": {},
   "outputs": [
    {
     "data": {
      "text/plain": [
       "{'cells': [{'cell_type': 'code',\n",
       "   'execution_count': 4,\n",
       "   'metadata': {},\n",
       "   'outputs': [],\n",
       "   'source': '#|export\\nfrom __future__ import annotations\\nimport math,numpy as np,matplotlib.pyplot as plt\\nfrom operator import itemgetter\\nfrom itertools import zip_longest\\nimport fastcore.all as fc\\n\\nfrom torch.utils.data import default_collate\\n\\ntry:\\n    from .training import *\\nexcept:\\n    from src.miniai.training import *'},\n",
       "  {'cell_type': 'code',\n",
       "   'execution_count': 5,\n",
       "   'metadata': {},\n",
       "   'outputs': [],\n",
       "   'source': '#|export\\ndef inplace(f):\\n    def _f(b):\\n        f(b)\\n        return b\\n    return _f'},\n",
       "  {'cell_type': 'code',\n",
       "   'execution_count': 6,\n",
       "   'metadata': {},\n",
       "   'outputs': [],\n",
       "   'source': '#|export\\ndef collate_dict(ds):\\n    get = itemgetter(*ds.features)\\n    def _f(b): return get(default_collate(b))\\n    return _f'},\n",
       "  {'cell_type': 'code',\n",
       "   'execution_count': 7,\n",
       "   'metadata': {},\n",
       "   'outputs': [],\n",
       "   'source': '#|export\\n@fc.delegates(plt.Axes.imshow)\\ndef show_image(im, ax=None, figsize=None, title=None, noframe=True, **kwargs):\\n    \"Show a PIL or PyTorch image on `ax`.\"\\n    if fc.hasattrs(im, (\\'cpu\\',\\'permute\\',\\'detach\\')):\\n        im = im.detach().cpu()\\n        if len(im.shape)==3 and im.shape[0]<5: im=im.permute(1,2,0)\\n    elif not isinstance(im,np.ndarray): im=np.array(im)\\n    if im.shape[-1]==1: im=im[...,0]\\n    if ax is None: _,ax = plt.subplots(figsize=figsize)\\n    ax.imshow(im, **kwargs)\\n    if title is not None: ax.set_title(title)\\n    ax.set_xticks([]) \\n    ax.set_yticks([]) \\n    if noframe: ax.axis(\\'off\\')\\n    return ax'},\n",
       "  {'cell_type': 'code',\n",
       "   'execution_count': 8,\n",
       "   'metadata': {},\n",
       "   'outputs': [],\n",
       "   'source': '#|export\\n@fc.delegates(plt.subplots, keep=True)\\ndef subplots(\\n    nrows:int=1, # Number of rows in returned axes grid\\n    ncols:int=1, # Number of columns in returned axes grid\\n    figsize:tuple=None, # Width, height in inches of the returned figure\\n    imsize:int=3, # Size (in inches) of images that will be displayed in the returned figure\\n    suptitle:str=None, # Title to be set to returned figure\\n    **kwargs\\n): # fig and axs\\n    \"A figure and set of subplots to display images of `imsize` inches\"\\n    if figsize is None: figsize=(ncols*imsize, nrows*imsize)\\n    fig,ax = plt.subplots(nrows, ncols, figsize=figsize, **kwargs)\\n    if suptitle is not None: fig.suptitle(suptitle)\\n    if nrows*ncols==1: ax = np.array([ax])\\n    return fig,ax'},\n",
       "  {'cell_type': 'code',\n",
       "   'execution_count': 9,\n",
       "   'metadata': {},\n",
       "   'outputs': [],\n",
       "   'source': '#|export\\n@fc.delegates(subplots)\\ndef get_grid(\\n    n:int, # Number of axes\\n    nrows:int=None, # Number of rows, defaulting to `int(math.sqrt(n))`\\n    ncols:int=None, # Number of columns, defaulting to `ceil(n/rows)`\\n    title:str=None, # If passed, title set to the figure\\n    weight:str=\\'bold\\', # Title font weight\\n    size:int=14, # Title font size\\n    **kwargs,\\n): # fig and axs\\n    \"Return a grid of `n` axes, `rows` by `cols`\"\\n    if nrows: ncols = ncols or int(np.floor(n/nrows))\\n    elif ncols: nrows = nrows or int(np.ceil(n/ncols))\\n    else:\\n        nrows = int(math.sqrt(n))\\n        ncols = int(np.floor(n/nrows))\\n    fig,axs = subplots(nrows, ncols, **kwargs)\\n    for i in range(n, nrows*ncols): axs.flat[i].set_axis_off()\\n    if title is not None: fig.suptitle(title, weight=weight, size=size)\\n    return fig,axs'},\n",
       "  {'cell_type': 'code',\n",
       "   'execution_count': 10,\n",
       "   'metadata': {},\n",
       "   'outputs': [],\n",
       "   'source': '#|export\\n@fc.delegates(subplots)\\ndef show_images(ims:list, # Images to show\\n                nrows:int|None=None, # Number of rows in grid\\n                ncols:int|None=None, # Number of columns in grid (auto-calculated if None)\\n                titles:list|None=None, # Optional list of titles for each image\\n                **kwargs):\\n    \"Show all images `ims` as subplots with `rows` using `titles`\"\\n    axs = get_grid(len(ims), nrows, ncols, **kwargs)[1].flat\\n    for im,t,ax in zip_longest(ims, titles or [], axs): show_image(im, ax=ax, title=t)'},\n",
       "  {'cell_type': 'code',\n",
       "   'execution_count': 11,\n",
       "   'metadata': {},\n",
       "   'outputs': [],\n",
       "   'source': \"#|export\\nclass DataLoaders:\\n    def __init__(self, *dls): self.train,self.valid = dls[:2]\\n\\n    @classmethod\\n    def from_dd(cls, dd, batch_size, as_tuple=True, **kwargs):\\n        f = collate_dict(dd['train'])\\n        return cls(*get_dls(*dd.values(), bs=batch_size, collate_fn=f))\"},\n",
       "  {'cell_type': 'code',\n",
       "   'execution_count': 24,\n",
       "   'metadata': {},\n",
       "   'outputs': [],\n",
       "   'source': 'import nbformat\\nimport os'},\n",
       "  {'cell_type': 'code',\n",
       "   'execution_count': 25,\n",
       "   'metadata': {},\n",
       "   'outputs': [],\n",
       "   'source': \"def export_cells(notebook_file, output_file):\\n    with open(notebook_file) as f:\\n        nb = nbformat.read(f, as_version=4)\\n\\n    exported_cells = [cell for cell in nb['cells'] if cell['source'].startswith('#export')]\\n\\n    with open(output_file, 'w') as f:\\n        for cell in exported_cells:\\n            f.write(cell['source'][len('#export'):].strip() + '\\\\n')\"},\n",
       "  {'cell_type': 'code',\n",
       "   'execution_count': 32,\n",
       "   'metadata': {},\n",
       "   'outputs': [{'name': 'stdout',\n",
       "     'output_type': 'stream',\n",
       "     'text': '[NbConvertApp] Converting notebook 05_datasets.ipynb to notebook\\nTraceback (most recent call last):\\n  File \"/opt/homebrew/Caskroom/miniforge/base/envs/nlp/lib/python3.9/site-packages/nbformat/reader.py\", line 14, in parse_json\\n    nb_dict = json.loads(s, **kwargs)\\n  File \"/opt/homebrew/Caskroom/miniforge/base/envs/nlp/lib/python3.9/json/__init__.py\", line 346, in loads\\n    return _default_decoder.decode(s)\\n  File \"/opt/homebrew/Caskroom/miniforge/base/envs/nlp/lib/python3.9/json/decoder.py\", line 337, in decode\\n    obj, end = self.raw_decode(s, idx=_w(s, 0).end())\\n  File \"/opt/homebrew/Caskroom/miniforge/base/envs/nlp/lib/python3.9/json/decoder.py\", line 355, in raw_decode\\n    raise JSONDecodeError(\"Expecting value\", s, err.value) from None\\njson.decoder.JSONDecodeError: Expecting value: line 1 column 1 (char 0)\\n\\nThe above exception was the direct cause of the following exception:\\n\\nTraceback (most recent call last):\\n  File \"/opt/homebrew/Caskroom/miniforge/base/envs/nlp/bin/jupyter-nbconvert\", line 11, in <module>\\n    sys.exit(main())\\n  File \"/opt/homebrew/Caskroom/miniforge/base/envs/nlp/lib/python3.9/site-packages/jupyter_core/application.py\", line 254, in launch_instance\\n    return super(JupyterApp, cls).launch_instance(argv=argv, **kwargs)\\n  File \"/opt/homebrew/Caskroom/miniforge/base/envs/nlp/lib/python3.9/site-packages/traitlets/config/application.py\", line 845, in launch_instance\\n    app.start()\\n  File \"/opt/homebrew/Caskroom/miniforge/base/envs/nlp/lib/python3.9/site-packages/nbconvert/nbconvertapp.py\", line 346, in start\\n    self.convert_notebooks()\\n  File \"/opt/homebrew/Caskroom/miniforge/base/envs/nlp/lib/python3.9/site-packages/nbconvert/nbconvertapp.py\", line 518, in convert_notebooks\\n    self.convert_single_notebook(notebook_filename)\\n  File \"/opt/homebrew/Caskroom/miniforge/base/envs/nlp/lib/python3.9/site-packages/nbconvert/nbconvertapp.py\", line 483, in convert_single_notebook\\n    output, resources = self.export_single_notebook(notebook_filename, resources, input_buffer=input_buffer)\\n  File \"/opt/homebrew/Caskroom/miniforge/base/envs/nlp/lib/python3.9/site-packages/nbconvert/nbconvertapp.py\", line 412, in export_single_notebook\\n    output, resources = self.exporter.from_filename(notebook_filename, resources=resources)\\n  File \"/opt/homebrew/Caskroom/miniforge/base/envs/nlp/lib/python3.9/site-packages/nbconvert/exporters/exporter.py\", line 181, in from_filename\\n    return self.from_file(f, resources=resources, **kw)\\n  File \"/opt/homebrew/Caskroom/miniforge/base/envs/nlp/lib/python3.9/site-packages/nbconvert/exporters/exporter.py\", line 199, in from_file\\n    return self.from_notebook_node(nbformat.read(file_stream, as_version=4), resources=resources, **kw)\\n  File \"/opt/homebrew/Caskroom/miniforge/base/envs/nlp/lib/python3.9/site-packages/nbformat/__init__.py\", line 143, in read\\n    return reads(buf, as_version, **kwargs)\\n  File \"/opt/homebrew/Caskroom/miniforge/base/envs/nlp/lib/python3.9/site-packages/nbformat/__init__.py\", line 73, in reads\\n    nb = reader.reads(s, **kwargs)\\n  File \"/opt/homebrew/Caskroom/miniforge/base/envs/nlp/lib/python3.9/site-packages/nbformat/reader.py\", line 58, in reads\\n    nb_dict = parse_json(s, **kwargs)\\n  File \"/opt/homebrew/Caskroom/miniforge/base/envs/nlp/lib/python3.9/site-packages/nbformat/reader.py\", line 17, in parse_json\\n    raise NotJSONError((\"Notebook does not appear to be JSON: %r\" % s)[:77] + \"...\") from e\\nnbformat.reader.NotJSONError: Notebook does not appear to be JSON: \\'\\'...\\n'}],\n",
       "   'source': '!jupyter nbconvert --to notebook --nbformat 4 --output 05_datasets.ipynb 05_datasets.ipynb'},\n",
       "  {'cell_type': 'code',\n",
       "   'execution_count': 31,\n",
       "   'metadata': {},\n",
       "   'outputs': [{'ename': 'NotJSONError',\n",
       "     'evalue': \"Notebook does not appear to be JSON: ''...\",\n",
       "     'output_type': 'error',\n",
       "     'traceback': ['\\x1b[0;31m---------------------------------------------------------------------------\\x1b[0m',\n",
       "      '\\x1b[0;31mJSONDecodeError\\x1b[0m                           Traceback (most recent call last)',\n",
       "      '\\x1b[0;32m/opt/homebrew/Caskroom/miniforge/base/envs/nlp/lib/python3.9/site-packages/nbformat/reader.py\\x1b[0m in \\x1b[0;36mparse_json\\x1b[0;34m(s, **kwargs)\\x1b[0m\\n\\x1b[1;32m     13\\x1b[0m     \\x1b[0;32mtry\\x1b[0m\\x1b[0;34m:\\x1b[0m\\x1b[0;34m\\x1b[0m\\x1b[0;34m\\x1b[0m\\x1b[0m\\n\\x1b[0;32m---> 14\\x1b[0;31m         \\x1b[0mnb_dict\\x1b[0m \\x1b[0;34m=\\x1b[0m \\x1b[0mjson\\x1b[0m\\x1b[0;34m.\\x1b[0m\\x1b[0mloads\\x1b[0m\\x1b[0;34m(\\x1b[0m\\x1b[0ms\\x1b[0m\\x1b[0;34m,\\x1b[0m \\x1b[0;34m**\\x1b[0m\\x1b[0mkwargs\\x1b[0m\\x1b[0;34m)\\x1b[0m\\x1b[0;34m\\x1b[0m\\x1b[0;34m\\x1b[0m\\x1b[0m\\n\\x1b[0m\\x1b[1;32m     15\\x1b[0m     \\x1b[0;32mexcept\\x1b[0m \\x1b[0mValueError\\x1b[0m \\x1b[0;32mas\\x1b[0m \\x1b[0me\\x1b[0m\\x1b[0;34m:\\x1b[0m\\x1b[0;34m\\x1b[0m\\x1b[0;34m\\x1b[0m\\x1b[0m\\n',\n",
       "      '\\x1b[0;32m/opt/homebrew/Caskroom/miniforge/base/envs/nlp/lib/python3.9/json/__init__.py\\x1b[0m in \\x1b[0;36mloads\\x1b[0;34m(s, cls, object_hook, parse_float, parse_int, parse_constant, object_pairs_hook, **kw)\\x1b[0m\\n\\x1b[1;32m    345\\x1b[0m             parse_constant is None and object_pairs_hook is None and not kw):\\n\\x1b[0;32m--> 346\\x1b[0;31m         \\x1b[0;32mreturn\\x1b[0m \\x1b[0m_default_decoder\\x1b[0m\\x1b[0;34m.\\x1b[0m\\x1b[0mdecode\\x1b[0m\\x1b[0;34m(\\x1b[0m\\x1b[0ms\\x1b[0m\\x1b[0;34m)\\x1b[0m\\x1b[0;34m\\x1b[0m\\x1b[0;34m\\x1b[0m\\x1b[0m\\n\\x1b[0m\\x1b[1;32m    347\\x1b[0m     \\x1b[0;32mif\\x1b[0m \\x1b[0mcls\\x1b[0m \\x1b[0;32mis\\x1b[0m \\x1b[0;32mNone\\x1b[0m\\x1b[0;34m:\\x1b[0m\\x1b[0;34m\\x1b[0m\\x1b[0;34m\\x1b[0m\\x1b[0m\\n',\n",
       "      '\\x1b[0;32m/opt/homebrew/Caskroom/miniforge/base/envs/nlp/lib/python3.9/json/decoder.py\\x1b[0m in \\x1b[0;36mdecode\\x1b[0;34m(self, s, _w)\\x1b[0m\\n\\x1b[1;32m    336\\x1b[0m         \"\"\"\\n\\x1b[0;32m--> 337\\x1b[0;31m         \\x1b[0mobj\\x1b[0m\\x1b[0;34m,\\x1b[0m \\x1b[0mend\\x1b[0m \\x1b[0;34m=\\x1b[0m \\x1b[0mself\\x1b[0m\\x1b[0;34m.\\x1b[0m\\x1b[0mraw_decode\\x1b[0m\\x1b[0;34m(\\x1b[0m\\x1b[0ms\\x1b[0m\\x1b[0;34m,\\x1b[0m \\x1b[0midx\\x1b[0m\\x1b[0;34m=\\x1b[0m\\x1b[0m_w\\x1b[0m\\x1b[0;34m(\\x1b[0m\\x1b[0ms\\x1b[0m\\x1b[0;34m,\\x1b[0m \\x1b[0;36m0\\x1b[0m\\x1b[0;34m)\\x1b[0m\\x1b[0;34m.\\x1b[0m\\x1b[0mend\\x1b[0m\\x1b[0;34m(\\x1b[0m\\x1b[0;34m)\\x1b[0m\\x1b[0;34m)\\x1b[0m\\x1b[0;34m\\x1b[0m\\x1b[0;34m\\x1b[0m\\x1b[0m\\n\\x1b[0m\\x1b[1;32m    338\\x1b[0m         \\x1b[0mend\\x1b[0m \\x1b[0;34m=\\x1b[0m \\x1b[0m_w\\x1b[0m\\x1b[0;34m(\\x1b[0m\\x1b[0ms\\x1b[0m\\x1b[0;34m,\\x1b[0m \\x1b[0mend\\x1b[0m\\x1b[0;34m)\\x1b[0m\\x1b[0;34m.\\x1b[0m\\x1b[0mend\\x1b[0m\\x1b[0;34m(\\x1b[0m\\x1b[0;34m)\\x1b[0m\\x1b[0;34m\\x1b[0m\\x1b[0;34m\\x1b[0m\\x1b[0m\\n',\n",
       "      '\\x1b[0;32m/opt/homebrew/Caskroom/miniforge/base/envs/nlp/lib/python3.9/json/decoder.py\\x1b[0m in \\x1b[0;36mraw_decode\\x1b[0;34m(self, s, idx)\\x1b[0m\\n\\x1b[1;32m    354\\x1b[0m         \\x1b[0;32mexcept\\x1b[0m \\x1b[0mStopIteration\\x1b[0m \\x1b[0;32mas\\x1b[0m \\x1b[0merr\\x1b[0m\\x1b[0;34m:\\x1b[0m\\x1b[0;34m\\x1b[0m\\x1b[0;34m\\x1b[0m\\x1b[0m\\n\\x1b[0;32m--> 355\\x1b[0;31m             \\x1b[0;32mraise\\x1b[0m \\x1b[0mJSONDecodeError\\x1b[0m\\x1b[0;34m(\\x1b[0m\\x1b[0;34m\"Expecting value\"\\x1b[0m\\x1b[0;34m,\\x1b[0m \\x1b[0ms\\x1b[0m\\x1b[0;34m,\\x1b[0m \\x1b[0merr\\x1b[0m\\x1b[0;34m.\\x1b[0m\\x1b[0mvalue\\x1b[0m\\x1b[0;34m)\\x1b[0m \\x1b[0;32mfrom\\x1b[0m \\x1b[0;32mNone\\x1b[0m\\x1b[0;34m\\x1b[0m\\x1b[0;34m\\x1b[0m\\x1b[0m\\n\\x1b[0m\\x1b[1;32m    356\\x1b[0m         \\x1b[0;32mreturn\\x1b[0m \\x1b[0mobj\\x1b[0m\\x1b[0;34m,\\x1b[0m \\x1b[0mend\\x1b[0m\\x1b[0;34m\\x1b[0m\\x1b[0;34m\\x1b[0m\\x1b[0m\\n',\n",
       "      '\\x1b[0;31mJSONDecodeError\\x1b[0m: Expecting value: line 1 column 1 (char 0)',\n",
       "      '\\nThe above exception was the direct cause of the following exception:\\n',\n",
       "      '\\x1b[0;31mNotJSONError\\x1b[0m                              Traceback (most recent call last)',\n",
       "      \"\\x1b[0;32m/var/folders/n6/5s4bgb9x08z1rk2hy7tzkkc80000gn/T/ipykernel_14628/3592067736.py\\x1b[0m in \\x1b[0;36m<module>\\x1b[0;34m\\x1b[0m\\n\\x1b[1;32m      1\\x1b[0m \\x1b[0mfname\\x1b[0m \\x1b[0;34m=\\x1b[0m \\x1b[0;34m'05_datasets.ipynb'\\x1b[0m\\x1b[0;34m\\x1b[0m\\x1b[0;34m\\x1b[0m\\x1b[0m\\n\\x1b[1;32m      2\\x1b[0m \\x1b[0;32mwith\\x1b[0m \\x1b[0mopen\\x1b[0m\\x1b[0;34m(\\x1b[0m\\x1b[0mfname\\x1b[0m\\x1b[0;34m)\\x1b[0m \\x1b[0;32mas\\x1b[0m \\x1b[0mf\\x1b[0m\\x1b[0;34m:\\x1b[0m\\x1b[0;34m\\x1b[0m\\x1b[0;34m\\x1b[0m\\x1b[0m\\n\\x1b[0;32m----> 3\\x1b[0;31m     \\x1b[0mnb\\x1b[0m \\x1b[0;34m=\\x1b[0m \\x1b[0mnbformat\\x1b[0m\\x1b[0;34m.\\x1b[0m\\x1b[0mread\\x1b[0m\\x1b[0;34m(\\x1b[0m\\x1b[0mf\\x1b[0m\\x1b[0;34m,\\x1b[0m \\x1b[0mas_version\\x1b[0m\\x1b[0;34m=\\x1b[0m\\x1b[0;36m4\\x1b[0m\\x1b[0;34m)\\x1b[0m\\x1b[0;34m\\x1b[0m\\x1b[0;34m\\x1b[0m\\x1b[0m\\n\\x1b[0m\",\n",
       "      '\\x1b[0;32m/opt/homebrew/Caskroom/miniforge/base/envs/nlp/lib/python3.9/site-packages/nbformat/__init__.py\\x1b[0m in \\x1b[0;36mread\\x1b[0;34m(fp, as_version, **kwargs)\\x1b[0m\\n\\x1b[1;32m    141\\x1b[0m             \\x1b[0;32mreturn\\x1b[0m \\x1b[0mreads\\x1b[0m\\x1b[0;34m(\\x1b[0m\\x1b[0mf\\x1b[0m\\x1b[0;34m.\\x1b[0m\\x1b[0mread\\x1b[0m\\x1b[0;34m(\\x1b[0m\\x1b[0;34m)\\x1b[0m\\x1b[0;34m,\\x1b[0m \\x1b[0mas_version\\x1b[0m\\x1b[0;34m,\\x1b[0m \\x1b[0;34m**\\x1b[0m\\x1b[0mkwargs\\x1b[0m\\x1b[0;34m)\\x1b[0m\\x1b[0;34m\\x1b[0m\\x1b[0;34m\\x1b[0m\\x1b[0m\\n\\x1b[1;32m    142\\x1b[0m \\x1b[0;34m\\x1b[0m\\x1b[0m\\n\\x1b[0;32m--> 143\\x1b[0;31m     \\x1b[0;32mreturn\\x1b[0m \\x1b[0mreads\\x1b[0m\\x1b[0;34m(\\x1b[0m\\x1b[0mbuf\\x1b[0m\\x1b[0;34m,\\x1b[0m \\x1b[0mas_version\\x1b[0m\\x1b[0;34m,\\x1b[0m \\x1b[0;34m**\\x1b[0m\\x1b[0mkwargs\\x1b[0m\\x1b[0;34m)\\x1b[0m\\x1b[0;34m\\x1b[0m\\x1b[0;34m\\x1b[0m\\x1b[0m\\n\\x1b[0m\\x1b[1;32m    144\\x1b[0m \\x1b[0;34m\\x1b[0m\\x1b[0m\\n\\x1b[1;32m    145\\x1b[0m \\x1b[0;34m\\x1b[0m\\x1b[0m\\n',\n",
       "      '\\x1b[0;32m/opt/homebrew/Caskroom/miniforge/base/envs/nlp/lib/python3.9/site-packages/nbformat/__init__.py\\x1b[0m in \\x1b[0;36mreads\\x1b[0;34m(s, as_version, **kwargs)\\x1b[0m\\n\\x1b[1;32m     71\\x1b[0m         \\x1b[0mThe\\x1b[0m \\x1b[0mnotebook\\x1b[0m \\x1b[0mthat\\x1b[0m \\x1b[0mwas\\x1b[0m \\x1b[0mread\\x1b[0m\\x1b[0;34m.\\x1b[0m\\x1b[0;34m\\x1b[0m\\x1b[0;34m\\x1b[0m\\x1b[0m\\n\\x1b[1;32m     72\\x1b[0m     \"\"\"\\n\\x1b[0;32m---> 73\\x1b[0;31m     \\x1b[0mnb\\x1b[0m \\x1b[0;34m=\\x1b[0m \\x1b[0mreader\\x1b[0m\\x1b[0;34m.\\x1b[0m\\x1b[0mreads\\x1b[0m\\x1b[0;34m(\\x1b[0m\\x1b[0ms\\x1b[0m\\x1b[0;34m,\\x1b[0m \\x1b[0;34m**\\x1b[0m\\x1b[0mkwargs\\x1b[0m\\x1b[0;34m)\\x1b[0m\\x1b[0;34m\\x1b[0m\\x1b[0;34m\\x1b[0m\\x1b[0m\\n\\x1b[0m\\x1b[1;32m     74\\x1b[0m     \\x1b[0;32mif\\x1b[0m \\x1b[0mas_version\\x1b[0m \\x1b[0;32mis\\x1b[0m \\x1b[0;32mnot\\x1b[0m \\x1b[0mNO_CONVERT\\x1b[0m\\x1b[0;34m:\\x1b[0m\\x1b[0;34m\\x1b[0m\\x1b[0;34m\\x1b[0m\\x1b[0m\\n\\x1b[1;32m     75\\x1b[0m         \\x1b[0mnb\\x1b[0m \\x1b[0;34m=\\x1b[0m \\x1b[0mconvert\\x1b[0m\\x1b[0;34m(\\x1b[0m\\x1b[0mnb\\x1b[0m\\x1b[0;34m,\\x1b[0m \\x1b[0mas_version\\x1b[0m\\x1b[0;34m)\\x1b[0m\\x1b[0;34m\\x1b[0m\\x1b[0;34m\\x1b[0m\\x1b[0m\\n',\n",
       "      '\\x1b[0;32m/opt/homebrew/Caskroom/miniforge/base/envs/nlp/lib/python3.9/site-packages/nbformat/reader.py\\x1b[0m in \\x1b[0;36mreads\\x1b[0;34m(s, **kwargs)\\x1b[0m\\n\\x1b[1;32m     56\\x1b[0m     \\x1b[0;32mfrom\\x1b[0m \\x1b[0;34m.\\x1b[0m \\x1b[0;32mimport\\x1b[0m \\x1b[0mversions\\x1b[0m\\x1b[0;34m,\\x1b[0m \\x1b[0mNBFormatError\\x1b[0m\\x1b[0;34m\\x1b[0m\\x1b[0;34m\\x1b[0m\\x1b[0m\\n\\x1b[1;32m     57\\x1b[0m \\x1b[0;34m\\x1b[0m\\x1b[0m\\n\\x1b[0;32m---> 58\\x1b[0;31m     \\x1b[0mnb_dict\\x1b[0m \\x1b[0;34m=\\x1b[0m \\x1b[0mparse_json\\x1b[0m\\x1b[0;34m(\\x1b[0m\\x1b[0ms\\x1b[0m\\x1b[0;34m,\\x1b[0m \\x1b[0;34m**\\x1b[0m\\x1b[0mkwargs\\x1b[0m\\x1b[0;34m)\\x1b[0m\\x1b[0;34m\\x1b[0m\\x1b[0;34m\\x1b[0m\\x1b[0m\\n\\x1b[0m\\x1b[1;32m     59\\x1b[0m     \\x1b[0;34m(\\x1b[0m\\x1b[0mmajor\\x1b[0m\\x1b[0;34m,\\x1b[0m \\x1b[0mminor\\x1b[0m\\x1b[0;34m)\\x1b[0m \\x1b[0;34m=\\x1b[0m \\x1b[0mget_version\\x1b[0m\\x1b[0;34m(\\x1b[0m\\x1b[0mnb_dict\\x1b[0m\\x1b[0;34m)\\x1b[0m\\x1b[0;34m\\x1b[0m\\x1b[0;34m\\x1b[0m\\x1b[0m\\n\\x1b[1;32m     60\\x1b[0m     \\x1b[0;32mif\\x1b[0m \\x1b[0mmajor\\x1b[0m \\x1b[0;32min\\x1b[0m \\x1b[0mversions\\x1b[0m\\x1b[0;34m:\\x1b[0m\\x1b[0;34m\\x1b[0m\\x1b[0;34m\\x1b[0m\\x1b[0m\\n',\n",
       "      '\\x1b[0;32m/opt/homebrew/Caskroom/miniforge/base/envs/nlp/lib/python3.9/site-packages/nbformat/reader.py\\x1b[0m in \\x1b[0;36mparse_json\\x1b[0;34m(s, **kwargs)\\x1b[0m\\n\\x1b[1;32m     15\\x1b[0m     \\x1b[0;32mexcept\\x1b[0m \\x1b[0mValueError\\x1b[0m \\x1b[0;32mas\\x1b[0m \\x1b[0me\\x1b[0m\\x1b[0;34m:\\x1b[0m\\x1b[0;34m\\x1b[0m\\x1b[0;34m\\x1b[0m\\x1b[0m\\n\\x1b[1;32m     16\\x1b[0m         \\x1b[0;31m# Limit the error message to 80 characters.  Display whatever JSON will fit.\\x1b[0m\\x1b[0;34m\\x1b[0m\\x1b[0;34m\\x1b[0m\\x1b[0;34m\\x1b[0m\\x1b[0m\\n\\x1b[0;32m---> 17\\x1b[0;31m         \\x1b[0;32mraise\\x1b[0m \\x1b[0mNotJSONError\\x1b[0m\\x1b[0;34m(\\x1b[0m\\x1b[0;34m(\\x1b[0m\\x1b[0;34m\"Notebook does not appear to be JSON: %r\"\\x1b[0m \\x1b[0;34m%\\x1b[0m \\x1b[0ms\\x1b[0m\\x1b[0;34m)\\x1b[0m\\x1b[0;34m[\\x1b[0m\\x1b[0;34m:\\x1b[0m\\x1b[0;36m77\\x1b[0m\\x1b[0;34m]\\x1b[0m \\x1b[0;34m+\\x1b[0m \\x1b[0;34m\"...\"\\x1b[0m\\x1b[0;34m)\\x1b[0m \\x1b[0;32mfrom\\x1b[0m \\x1b[0me\\x1b[0m\\x1b[0;34m\\x1b[0m\\x1b[0;34m\\x1b[0m\\x1b[0m\\n\\x1b[0m\\x1b[1;32m     18\\x1b[0m     \\x1b[0;32mreturn\\x1b[0m \\x1b[0mnb_dict\\x1b[0m\\x1b[0;34m\\x1b[0m\\x1b[0;34m\\x1b[0m\\x1b[0m\\n\\x1b[1;32m     19\\x1b[0m \\x1b[0;34m\\x1b[0m\\x1b[0m\\n',\n",
       "      \"\\x1b[0;31mNotJSONError\\x1b[0m: Notebook does not appear to be JSON: ''...\"]}],\n",
       "   'source': \"fname = '05_datasets.ipynb'\\nwith open(fname) as f:\\n    nb = nbformat.read(f, as_version=4)\"},\n",
       "  {'cell_type': 'code',\n",
       "   'execution_count': None,\n",
       "   'metadata': {},\n",
       "   'outputs': [],\n",
       "   'source': ''},\n",
       "  {'cell_type': 'code',\n",
       "   'execution_count': None,\n",
       "   'metadata': {},\n",
       "   'outputs': [],\n",
       "   'source': ''}],\n",
       " 'metadata': {'kernelspec': {'display_name': 'nlp',\n",
       "   'language': 'python',\n",
       "   'name': 'python3'},\n",
       "  'language_info': {'codemirror_mode': {'name': 'ipython', 'version': 3},\n",
       "   'file_extension': '.py',\n",
       "   'mimetype': 'text/x-python',\n",
       "   'name': 'python',\n",
       "   'nbconvert_exporter': 'python',\n",
       "   'pygments_lexer': 'ipython3',\n",
       "   'version': '3.9.6'},\n",
       "  'vscode': {'interpreter': {'hash': '0638b84c441d23f3bf1e5bbb68dbbbae5f508c99744b50e7a508082753ac4090'}}},\n",
       " 'nbformat': 4,\n",
       " 'nbformat_minor': 2}"
      ]
     },
     "execution_count": 14,
     "metadata": {},
     "output_type": "execute_result"
    }
   ],
   "source": [
    "nb"
   ]
  },
  {
   "cell_type": "code",
   "execution_count": null,
   "metadata": {},
   "outputs": [],
   "source": []
  },
  {
   "cell_type": "code",
   "execution_count": null,
   "metadata": {},
   "outputs": [],
   "source": []
  }
 ],
 "metadata": {
  "kernelspec": {
   "display_name": "nlp",
   "language": "python",
   "name": "python3"
  },
  "language_info": {
   "codemirror_mode": {
    "name": "ipython",
    "version": 3
   },
   "file_extension": ".py",
   "mimetype": "text/x-python",
   "name": "python",
   "nbconvert_exporter": "python",
   "pygments_lexer": "ipython3",
   "version": "3.9.6"
  },
  "orig_nbformat": 4,
  "vscode": {
   "interpreter": {
    "hash": "0638b84c441d23f3bf1e5bbb68dbbbae5f508c99744b50e7a508082753ac4090"
   }
  }
 },
 "nbformat": 4,
 "nbformat_minor": 2
}
